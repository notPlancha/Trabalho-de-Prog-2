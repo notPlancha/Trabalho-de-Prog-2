{
 "cells": [
  {
   "cell_type": "markdown",
   "source": [
    "![Iscte Logo](https://www.iscte-iul.pt/assets/images/logo_iscte_detailed.svg)"
   ],
   "metadata": {
    "collapsed": false,
    "pycharm": {
     "name": "#%% md\n"
    }
   }
  },
  {
   "cell_type": "markdown",
   "source": [
    "# Exploração do TAD Lista com implementação de listas ligadas\n",
    "*Análise da complexidade de algoritmos*\n",
    "---\n",
    "**Relatório elaborado no âmbito da Unidade Curricular de Estruturas de Dados e Algoritmos do 1º ano da Licenciatura de Ciência de Dados**\n",
    "\n",
    "Realizado por:\n",
    "* 105289 - André Plancha - Turma CDA2\n",
    "* 105289 - André Plancha - Turma CDA2\n",
    "* 105289 - André Plancha - Turma CDA2\n",
    "* 105289 - André Plancha - Turma CDA2"
   ],
   "metadata": {
    "collapsed": false
   }
  },
  {
   "cell_type": "markdown",
   "source": [
    "View this in [nbViewer](https://nbviewer.org/github/notPlancha/Trabalho-de-Prog-2/blob/main/Fase%202.ipynb)"
   ],
   "metadata": {
    "collapsed": false,
    "pycharm": {
     "name": "#%% md\n"
    }
   }
  },
  {
   "cell_type": "markdown",
   "source": [
    "# Introdução\n",
    "Uma lista ligada é uma estrutura de dados que armazena elementos em uma ordem específica."
   ],
   "metadata": {
    "collapsed": false,
    "pycharm": {
     "name": "#%% md\n"
    }
   }
  },
  {
   "cell_type": "code",
   "execution_count": null,
   "outputs": [],
   "source": [],
   "metadata": {
    "collapsed": false,
    "pycharm": {
     "name": "#%%\n"
    }
   }
  }
 ],
 "metadata": {
  "kernelspec": {
   "display_name": "Python 3",
   "language": "python",
   "name": "python3"
  },
  "language_info": {
   "codemirror_mode": {
    "name": "ipython",
    "version": 2
   },
   "file_extension": ".py",
   "mimetype": "text/x-python",
   "name": "python",
   "nbconvert_exporter": "python",
   "pygments_lexer": "ipython2",
   "version": "2.7.6"
  }
 },
 "nbformat": 4,
 "nbformat_minor": 0
}