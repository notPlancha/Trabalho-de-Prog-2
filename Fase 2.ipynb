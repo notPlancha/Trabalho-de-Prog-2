{
 "cells": [
  {
   "cell_type": "markdown",
   "metadata": {
    "pycharm": {
     "name": "#%% md\n"
    }
   },
   "source": [
    "![Iscte Logo](https://www.iscte-iul.pt/assets/images/logo_iscte_detailed.svg)"
   ]
  },
  {
   "cell_type": "markdown",
   "metadata": {
    "pycharm": {
     "name": "#%% md\n"
    }
   },
   "source": [
    "# Exploração do TAD Lista com implementação de listas ligadas\n",
    "*Análise da complexidade de algoritmos*\n",
    "---\n",
    "**Relatório elaborado no âmbito da Unidade Curricular de Estruturas de Dados e Algoritmos do 1º ano da Licenciatura de Ciência de Dados**\n",
    "\n",
    "Realizado por:\n",
    "* 105289 - André Plancha - Turma CDA2\n",
    "* 105289 - André Plancha - Turma CDA2\n",
    "* 105289 - André Plancha - Turma CDA2\n",
    "* 105220 - Tomás Ribeiro - Turma CDA2"
   ]
  },
  {
   "cell_type": "markdown",
   "metadata": {
    "pycharm": {
     "name": "#%% md\n"
    }
   },
   "source": [
    "Veja este notebook com o [nbViewer](https://nbviewer.org/github/notPlancha/Trabalho-de-Prog-2/blob/main/Fase%202.ipynb). O código total está em anexo."
   ]
  },
  {
   "cell_type": "markdown",
   "metadata": {
    "pycharm": {
     "name": "#%% md\n"
    }
   },
   "source": [
    "# Introdução\n",
    "Uma lista ligada é uma estrutura de dados que armazena elementos em uma ordem específica.\n",
    "Foi implementado uma lista duplamente ligada que consiste numa lista ligada em que os elementos estão ligados de forma reciproca, ou seja, um elemento está ligado ao seguinte e o mesmo está ligado ao anterior.\n",
    "E foi também implementado uma lista ligada circular onde a cabeça está ligada à cauda. Até agora, de um modo geral foram realizados alguns métodos sobre as implementações que permitem a gestão da mesma e implementamos também algoritmos de pesquisa binária e sequencial e os métodos de ordenação bubblesort e mergesort que vamos seguidamente fazer uma análise espácio-temporal.\n",
    "O objetivo é tentar analisar a eficiência que cada algoritmo tem sobre como varia a sua ocupação no espaço bem como no tempo para assim poder perceber quanto tempo demora e quanto espaço ocupa a execução da pesquisa binária, o mergesort e bubblesort.\n",
    "Para esse efeito iremos fazer testes ao desempenho dos algoritmos, representar graficamente as funções espaço e tempo, e descrever as observações retiradas desses mesmos gráficos. Utilizaremos este processo quer para lista ligada circular e a lista duplamente ligada.\n",
    "Ao longo desta análise iremos formular hipóteses as quais iremos também comparar com os resultados empíricos obtidos.\n"
   ]
  },
  {
   "cell_type": "code",
   "execution_count": 26,
   "metadata": {
    "pycharm": {
     "name": "#%%\n"
    }
   },
   "outputs": [],
   "source": [
    "# Imports TODO remove not needed\n",
    "import random\n",
    "\n",
    "from doubly_linked_list import DoublyLinkedList\n",
    "from circular_linked_list import CircularLinkedList\n",
    "from base_classes import LinkedList\n",
    "from Testes_ao_codigo import fromListToDll, fromListToCll\n",
    "from typing import List, Tuple\n",
    "from timeit import Timer\n",
    "from numpy import random\n",
    "from matplotlib import pyplot as plt\n",
    "from tqdm.notebook import trange, tqdm\n",
    "\n",
    "FileSeed = 10\n",
    "maxNLists = 100\n",
    "nlistsForN = 50"
   ]
  },
  {
   "cell_type": "markdown",
   "metadata": {
    "pycharm": {
     "name": "#%% md\n"
    }
   },
   "source": [
    "# Metodologia\n",
    "Para analisármos a complexidade temporal empiricamente, vamos usar a biblioteca <code>timeit</code>, em conjunto com a biblioteca <code>numpy</code>, para construir as nossas listas ligadas. Iremos usar uma seed pré-defenida de forma aos nossos testes. No fim, iremos usar <code>matplotlib</code> para analisar os tempos dos vários algorítmos graficamente. Para a nossa análise assintótica, iremos demostrar as conclusões tiradas, baseadas em como construimos o nosso algoritmo."
   ]
  },
  {
   "cell_type": "code",
   "execution_count": 29,
   "metadata": {
    "pycharm": {
     "name": "#%%\n"
    }
   },
   "outputs": [],
   "source": [
    "def randomLists(seed, nMax , eachNNLists):\n",
    "    random.seed(seed)\n",
    "    return [[random.randint(0, 10000, i) for _ in range(eachNNLists)] for i in range(nMax+1)]\n",
    "\n",
    "def plotIt(title, xPoints, yPoints, axis = None):\n",
    "    if axis is None:\n",
    "        axis = plt\n",
    "        plt.title(title)\n",
    "    else:\n",
    "        axis.set_title(title)\n",
    "    axis.scatter(xPoints, yPoints)\n",
    "    axis.xlabel('N')\n",
    "    axis.ylabel('Tempo (s)')\n",
    "def plotMethodTime(title, method):\n",
    "    testArrays = randomLists(FileSeed, maxNLists, nlistsForN)\n",
    "    X = []\n",
    "    Y = []\n",
    "    for i in tqdm(range(len(testArrays))):\n",
    "        for j in testArrays[i]:\n",
    "            X.append(len(j))\n",
    "            LL = fromListToDll(j)\n",
    "            Y.append(Timer(lambda: method(LL)).timeit(number=5))\n",
    "    \n",
    "    plotIt(title, X, Y)"
   ]
  },
  {
   "cell_type": "markdown",
   "metadata": {
    "pycharm": {
     "name": "#%% md\n"
    }
   },
   "source": [
    "# Mergesort\n",
    "O mergesort é um algoritmo de ordenação que divide um vetor em dois sub-vetores e ordena cada um deles de forma recursiva, juntando-as de forma ordenada. A complexidade temporal do mergesort quando usado num vetor é de O(n log n), onde n é o número de elementos do vetor. Isto é porque divide o vetor em duas metades e demora um tempo linear para fundir os vetores.\n",
    "Numa lista ligada, a nossa hipótese é que este algoritmo não sofre alterações na sua complexidade temporal, sendo este algorítmo não parece ter vantagens temporais ao ter um vetor em vês desta estrutura de dados. Consoante o nosso código, mostrado e explicado de seguida, este parece ser o caso, em qualquer uma das listas implementadas, sendo que a lista ser circular ou duplamente ligada não dá nenhuma vantagem ou desvantagem em termos de eficiciência temporal.\n",
    "Em termos de eficiência espacial, este algoritmo tem a possibilidade de não precisar de O(n) de complexidade espacial, como demonstrado por [Tatham (2017)](https://www.chiark.greenend.org.uk/~sgtatham/algorithms/listsort.html). Na nossa análise, iremos verificar se conseguimos alcançar essa conquista."
   ]
  },
  {
   "cell_type": "code",
   "execution_count": null,
   "metadata": {
    "pycharm": {
     "name": "#%%\n"
    }
   },
   "outputs": [],
   "source": [
    "#TODO put mergeSort here"
   ]
  },
  {
   "cell_type": "markdown",
   "metadata": {
    "pycharm": {
     "name": "#%% md\n"
    }
   },
   "source": [
    "## Complexidade espacial\n",
    "Este algorítmo vai ter uma complexidade espacial de O(log n), sendo que estamos a criar novas listas cada vez que entramos na recursividade, estas correndo 2 * log n vezes. Sendo que estas listasligam diretamente ao nó com o valor, em vês de criá-lo novamente, apenas <code>LinkedList.size</code> vai aumentar a memória."
   ]
  },
  {
   "cell_type": "markdown",
   "metadata": {
    "pycharm": {
     "name": "#%% md\n"
    }
   },
   "source": [
    "## Complexidade temporal\n",
    "De seguida irá ser criado os dados sobre o tempo de execução do algoritmo, e analisado."
   ]
  },
  {
   "cell_type": "code",
   "execution_count": 30,
   "metadata": {
    "pycharm": {
     "name": "#%%\n"
    }
   },
   "outputs": [
    {
     "data": {
      "application/vnd.jupyter.widget-view+json": {
       "model_id": "83005521a3854ee0a253eeeac28ef81c",
       "version_major": 2,
       "version_minor": 0
      },
      "text/plain": [
       "  0%|          | 0/101 [00:00<?, ?it/s]"
      ]
     },
     "metadata": {},
     "output_type": "display_data"
    },
    {
     "data": {
      "image/png": "[encoded data removed]",
      "text/plain": [
       "<Figure size 432x288 with 1 Axes>"
      ]
     },
     "metadata": {
      "needs_background": "light"
     },
     "output_type": "display_data"
    }
   ],
   "source": [
    "plotMethodTime('MergeSort', DoublyLinkedList.mergeSort)"
   ]
  },
  {
   "cell_type": "markdown",
   "metadata": {
    "pycharm": {
     "name": "#%% md\n"
    }
   },
   "source": [
    "# Bubblesort\n",
    "O bubblesort é um algoritmo de ordenação que consiste em ordenar o vetor por seções ordenando em primeiro lugar o par constituido pelo primeiro e segundo elemento, de seguida ordenando o segundo e o terceiro até ao fim da lista. Se a este ponto o vetor ainda nao estiver ordenado repete-se o processo."
   ]
  },
  {
   "cell_type": "markdown",
   "metadata": {
    "jp-MarkdownHeadingCollapsed": true,
    "pycharm": {
     "name": "#%% md\n"
    },
    "tags": []
   },
   "source": [
    "# Binary Search\n",
    "O algoritmo de pesquisa binária é um algoritmo que pretende dizer se existe determinado elemento na lista. Parte-se do pressuposto que a lista esta ordenada. Consiste em analisar o elemento do meio e verificar se corresponde ao elemento procurado, se não for o algoritmo vai comparar se o numero procurado é maior ou menor do que o elemento e busca o elemento do meio a partir do meio. O processo repete-se até encontrar o elemento ou nocaso de nao encontrar até não haver mais elementos no vetor."
   ]
  },
  {
   "cell_type": "markdown",
   "metadata": {
    "pycharm": {
     "name": "#%% md\n"
    }
   },
   "source": [
    "# Conclusão\n"
   ]
  },
  {
   "cell_type": "code",
   "execution_count": null,
   "metadata": {},
   "outputs": [],
   "source": []
  }
 ],
 "metadata": {
  "kernelspec": {
   "display_name": "Python 3 (ipykernel)",
   "language": "python",
   "name": "python3"
  },
  "language_info": {
   "codemirror_mode": {
    "name": "ipython",
    "version": 3
   },
   "file_extension": ".py",
   "mimetype": "text/x-python",
   "name": "python",
   "nbconvert_exporter": "python",
   "pygments_lexer": "ipython3",
   "version": "3.10.1"
  }
 },
 "nbformat": 4,
 "nbformat_minor": 4
}